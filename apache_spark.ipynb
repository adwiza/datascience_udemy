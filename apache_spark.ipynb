{
 "cells": [
  {
   "cell_type": "markdown",
   "id": "e2a7555e",
   "metadata": {},
   "source": [
    "# Import JSON data into Dataframe"
   ]
  },
  {
   "cell_type": "markdown",
   "id": "015758f7",
   "metadata": {},
   "source": [
    "{\"name\":\"John\", \"grade\": 4}\n",
    "{\"name\":\"Marry\", \"grade\": 9}\n",
    "{\"name\":\"Peter\", \"grade\": 7}"
   ]
  },
  {
   "cell_type": "code",
   "execution_count": 7,
   "id": "eed5851f",
   "metadata": {},
   "outputs": [],
   "source": [
    "df = spark.read.json(\"data/student.json\")"
   ]
  },
  {
   "cell_type": "code",
   "execution_count": 8,
   "id": "87c623d9",
   "metadata": {},
   "outputs": [
    {
     "data": {
      "text/plain": [
       "DataFrame[grade: bigint, name: string]"
      ]
     },
     "execution_count": 8,
     "metadata": {},
     "output_type": "execute_result"
    }
   ],
   "source": [
    "df"
   ]
  },
  {
   "cell_type": "code",
   "execution_count": 9,
   "id": "bcad1b61",
   "metadata": {},
   "outputs": [
    {
     "name": "stdout",
     "output_type": "stream",
     "text": [
      "+-----+-----+\n",
      "|grade| name|\n",
      "+-----+-----+\n",
      "|    4| John|\n",
      "|    9|Marry|\n",
      "|    7|Peter|\n",
      "+-----+-----+\n",
      "\n"
     ]
    }
   ],
   "source": [
    "df.show()"
   ]
  },
  {
   "cell_type": "code",
   "execution_count": 10,
   "id": "d476c174",
   "metadata": {},
   "outputs": [
    {
     "name": "stdout",
     "output_type": "stream",
     "text": [
      "root\n",
      " |-- grade: long (nullable = true)\n",
      " |-- name: string (nullable = true)\n",
      "\n"
     ]
    }
   ],
   "source": [
    "df.printSchema()"
   ]
  },
  {
   "cell_type": "code",
   "execution_count": 12,
   "id": "15cae9c8",
   "metadata": {},
   "outputs": [
    {
     "data": {
      "text/plain": [
       "['grade', 'name']"
      ]
     },
     "execution_count": 12,
     "metadata": {},
     "output_type": "execute_result"
    }
   ],
   "source": [
    "df.columns"
   ]
  },
  {
   "cell_type": "code",
   "execution_count": 13,
   "id": "8bedb4fc",
   "metadata": {},
   "outputs": [
    {
     "data": {
      "text/plain": [
       "3"
      ]
     },
     "execution_count": 13,
     "metadata": {},
     "output_type": "execute_result"
    }
   ],
   "source": [
    "df.count()"
   ]
  },
  {
   "cell_type": "code",
   "execution_count": 14,
   "id": "b7096851",
   "metadata": {},
   "outputs": [
    {
     "name": "stderr",
     "output_type": "stream",
     "text": [
      "                                                                                \r"
     ]
    },
    {
     "data": {
      "text/plain": [
       "DataFrame[summary: string, grade: string, name: string]"
      ]
     },
     "execution_count": 14,
     "metadata": {},
     "output_type": "execute_result"
    }
   ],
   "source": [
    "df.describe()"
   ]
  },
  {
   "cell_type": "code",
   "execution_count": 15,
   "id": "56cfff83",
   "metadata": {},
   "outputs": [
    {
     "name": "stdout",
     "output_type": "stream",
     "text": [
      "+-------+-----------------+-----+\n",
      "|summary|            grade| name|\n",
      "+-------+-----------------+-----+\n",
      "|  count|                3|    3|\n",
      "|   mean|6.666666666666667| null|\n",
      "| stddev|2.516611478423583| null|\n",
      "|    min|                4| John|\n",
      "|    max|                9|Peter|\n",
      "+-------+-----------------+-----+\n",
      "\n"
     ]
    }
   ],
   "source": [
    "df.describe().show()"
   ]
  },
  {
   "cell_type": "code",
   "execution_count": 17,
   "id": "49326d7f",
   "metadata": {},
   "outputs": [
    {
     "data": {
      "text/plain": [
       "[Row(grade=4, name='John'),\n",
       " Row(grade=9, name='Marry'),\n",
       " Row(grade=7, name='Peter')]"
      ]
     },
     "execution_count": 17,
     "metadata": {},
     "output_type": "execute_result"
    }
   ],
   "source": [
    "df.head(10)"
   ]
  },
  {
   "cell_type": "code",
   "execution_count": null,
   "id": "acee154d",
   "metadata": {},
   "outputs": [],
   "source": []
  }
 ],
 "metadata": {
  "kernelspec": {
   "display_name": "Python 3 (ipykernel)",
   "language": "python",
   "name": "python3"
  },
  "language_info": {
   "codemirror_mode": {
    "name": "ipython",
    "version": 3
   },
   "file_extension": ".py",
   "mimetype": "text/x-python",
   "name": "python",
   "nbconvert_exporter": "python",
   "pygments_lexer": "ipython3",
   "version": "3.10.7"
  }
 },
 "nbformat": 4,
 "nbformat_minor": 5
}
