{
 "cells": [
  {
   "cell_type": "markdown",
   "id": "74d6eabe",
   "metadata": {},
   "source": [
    "# Web Scrapping"
   ]
  },
  {
   "cell_type": "code",
   "execution_count": 2,
   "id": "ac14783a",
   "metadata": {},
   "outputs": [],
   "source": [
    "import requests\n",
    "from bs4 import BeautifulSoup as bs"
   ]
  },
  {
   "cell_type": "markdown",
   "id": "b97e9484",
   "metadata": {},
   "source": [
    "1. Download HTML web page\n",
    "2. Locate of information of interest\n",
    "3. Locate element inside HTML source code - Common pattern\n",
    "4. Give scrapping - extractor give me all element whose class is \"titleColumn\""
   ]
  },
  {
   "cell_type": "code",
   "execution_count": 3,
   "id": "89cce894",
   "metadata": {},
   "outputs": [],
   "source": [
    "url = 'https://www.imdb.com/chart/boxoffice?ref_=nv_ch_cht_1'\n",
    "html = requests.get(url)"
   ]
  },
  {
   "cell_type": "code",
   "execution_count": 5,
   "id": "ece8d1f6",
   "metadata": {},
   "outputs": [],
   "source": [
    "bs_obj = bs(html.text, 'lxml')"
   ]
  },
  {
   "cell_type": "code",
   "execution_count": 8,
   "id": "0c110fc3",
   "metadata": {},
   "outputs": [
    {
     "data": {
      "text/plain": [
       "'IMDb Top Box Office - IMDb'"
      ]
     },
     "execution_count": 8,
     "metadata": {},
     "output_type": "execute_result"
    }
   ],
   "source": [
    "bs_obj.find('title').getText()"
   ]
  },
  {
   "cell_type": "code",
   "execution_count": 9,
   "id": "d3178303",
   "metadata": {},
   "outputs": [],
   "source": [
    "h1_list = bs_obj.findAll('h1')"
   ]
  },
  {
   "cell_type": "code",
   "execution_count": 15,
   "id": "2884a84c",
   "metadata": {},
   "outputs": [
    {
     "name": "stdout",
     "output_type": "stream",
     "text": [
      "<h1 class=\"header\">Top Box Office (US)</h1>\n"
     ]
    }
   ],
   "source": [
    "for h1 in h1_list:\n",
    "    print(h1)"
   ]
  },
  {
   "cell_type": "code",
   "execution_count": 16,
   "id": "e0ae24c2",
   "metadata": {},
   "outputs": [],
   "source": [
    "h4_list = bs_obj.findAll('h4')"
   ]
  },
  {
   "cell_type": "code",
   "execution_count": 17,
   "id": "92d4dcae",
   "metadata": {},
   "outputs": [
    {
     "name": "stdout",
     "output_type": "stream",
     "text": [
      "Weekend of October 14 - 16, 2022\n"
     ]
    }
   ],
   "source": [
    "for h4 in h4_list:\n",
    "    print(h4.getText())"
   ]
  },
  {
   "cell_type": "code",
   "execution_count": 18,
   "id": "65aa52cd",
   "metadata": {},
   "outputs": [],
   "source": [
    "title_list = bs_obj.findAll('td', {'class':'titleColumn'})"
   ]
  },
  {
   "cell_type": "code",
   "execution_count": 19,
   "id": "5ece61a1",
   "metadata": {},
   "outputs": [
    {
     "name": "stdout",
     "output_type": "stream",
     "text": [
      "\n",
      "Halloween Ends\n",
      "\n",
      "\n",
      "Smile\n",
      "\n",
      "\n",
      "Lyle, Lyle, Crocodile\n",
      "\n",
      "\n",
      "The Woman King\n",
      "\n",
      "\n",
      "Amsterdam\n",
      "\n",
      "\n",
      "Don't Worry Darling\n",
      "\n",
      "\n",
      "Barbarian\n",
      "\n",
      "\n",
      "Terrifier 2\n",
      "\n",
      "\n",
      "Bros\n",
      "\n",
      "\n",
      "Top Gun: Maverick\n",
      "\n"
     ]
    }
   ],
   "source": [
    "for title in title_list:\n",
    "    print(title.getText())"
   ]
  }
 ],
 "metadata": {
  "kernelspec": {
   "display_name": "Python 3 (ipykernel)",
   "language": "python",
   "name": "python3"
  },
  "language_info": {
   "codemirror_mode": {
    "name": "ipython",
    "version": 3
   },
   "file_extension": ".py",
   "mimetype": "text/x-python",
   "name": "python",
   "nbconvert_exporter": "python",
   "pygments_lexer": "ipython3",
   "version": "3.10.7"
  }
 },
 "nbformat": 4,
 "nbformat_minor": 5
}
